{
 "cells": [
  {
   "cell_type": "code",
   "execution_count": null,
   "id": "99ceed86",
   "metadata": {},
   "outputs": [
    {
     "name": "stdout",
     "output_type": "stream",
     "text": [
      "Mean = 7.333333333333333\n"
     ]
    }
   ],
   "source": [
    "#---find---Mean of an array using numpy---\n",
    "import numpy as np \n",
    "\n",
    "# Sample Data\n",
    "arr = [5, 6, 11]\n",
    "\n",
    "# Mean\n",
    "mean = np.mean(arr)\n",
    "\n",
    "print(\"Mean =\",mean)"
   ]
  },
  {
   "cell_type": "code",
   "execution_count": 3,
   "id": "102da428",
   "metadata": {},
   "outputs": [
    {
     "name": "stdout",
     "output_type": "stream",
     "text": [
      "Median = 6.0\n"
     ]
    }
   ],
   "source": [
    "#---find---Median of an array using numpy---\n",
    "import numpy as np\n",
    "from scipy import stats\n",
    "# Sample Data\n",
    "arr = [5, 6, 11]\n",
    "# Median\n",
    "median = np.median(arr)\n",
    "print(\"Median =\",median)\n"
   ]
  }
 ],
 "metadata": {
  "kernelspec": {
   "display_name": "Python 3",
   "language": "python",
   "name": "python3"
  },
  "language_info": {
   "codemirror_mode": {
    "name": "ipython",
    "version": 3
   },
   "file_extension": ".py",
   "mimetype": "text/x-python",
   "name": "python",
   "nbconvert_exporter": "python",
   "pygments_lexer": "ipython3",
   "version": "3.11.4"
  }
 },
 "nbformat": 4,
 "nbformat_minor": 5
}
