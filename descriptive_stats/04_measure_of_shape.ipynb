{
 "cells": [
  {
   "cell_type": "code",
   "execution_count": 2,
   "id": "213a7be8",
   "metadata": {},
   "outputs": [
    {
     "name": "stdout",
     "output_type": "stream",
     "text": [
      "Skewness: -0.04205270534506829, Kurtosis: -0.06535446895640229\n",
      "Jarque-Bera Statistic: 0.4727052799970787, p-value: 0.7895022147779044\n"
     ]
    }
   ],
   "source": [
    "#----1. Skewness and Kurtosis----\n",
    "import numpy as np\n",
    "from scipy.stats import skew, kurtosis ,jarque_bera\n",
    "data = np.random.normal(0, 1, 1000)\n",
    "data_skewness = skew(data)\n",
    "data_kurtosis = kurtosis(data)\n",
    "print(f\"Skewness: {data_skewness}, Kurtosis: {data_kurtosis}\")\n",
    "\n",
    "#----2. Jarque-Bera Test----\n",
    "# from scipy.stats import jarque_bera\n",
    "jb_stat, jb_pvalue = jarque_bera(data)\n",
    "print(f\"Jarque-Bera Statistic: {jb_stat}, p-value: {jb_pvalue}\")\n"
   ]
  }
 ],
 "metadata": {
  "kernelspec": {
   "display_name": "Python 3",
   "language": "python",
   "name": "python3"
  },
  "language_info": {
   "codemirror_mode": {
    "name": "ipython",
    "version": 3
   },
   "file_extension": ".py",
   "mimetype": "text/x-python",
   "name": "python",
   "nbconvert_exporter": "python",
   "pygments_lexer": "ipython3",
   "version": "3.11.4"
  }
 },
 "nbformat": 4,
 "nbformat_minor": 5
}
