{
 "cells": [
  {
   "cell_type": "code",
   "execution_count": 6,
   "id": "cc628a41",
   "metadata": {},
   "outputs": [
    {
     "name": "stdout",
     "output_type": "stream",
     "text": [
      "Data : [10, 12, 15, 18, 20, 22, 25, 8]\n",
      "maximum value : 25\n",
      "minimum value : 8\n",
      "Range : 17\n"
     ]
    }
   ],
   "source": [
    "#---FIND--RANGES-DISPERSION--STATS------------------------------------------------\n",
    "# Range = Maximum Value in the data - Minimum value in the data  \n",
    "\n",
    "data = [10, 12, 15, 18, 20, 22, 25, 8]\n",
    "max_value = max(data)\n",
    "min_value = min(data)\n",
    "range_value = max_value - min_value\n",
    "\n",
    "print(\"Data :\", data)\n",
    "print(\"maximum value :\", max_value)\n",
    "print(\"minimum value :\", min_value)\n",
    "print(\"Range :\", range_value)\n",
    "\n"
   ]
  },
  {
   "cell_type": "code",
   "execution_count": 1,
   "id": "b4ec7df4",
   "metadata": {},
   "outputs": [
    {
     "name": "stdout",
     "output_type": "stream",
     "text": [
      "Data : [10, 12, 15, 18, 20, 22, 25, 8]\n",
      "Mean : 16.25\n",
      "Variance : 31.6875\n",
      "Standard Deviation : 5.629165124598851\n"
     ]
    }
   ],
   "source": [
    "#---FIND--VARIANCE-DISPERSION--STATS------------------------------------------------\n",
    "# Variance = Sum of (each value - mean)² / number of values\n",
    "\n",
    "#--sample-data---\n",
    "data = [10, 12, 15, 18, 20, 22, 25, 8]\n",
    "mean_value = sum(data) / len(data)\n",
    "squared_diffs = [(x - mean_value) ** 2 for x in data]\n",
    "variance_value = sum(squared_diffs) / len(data)\n",
    "print(\"Data :\", data)\n",
    "print(\"Mean :\", mean_value)\n",
    "print(\"Variance :\", variance_value)\n",
    "print(\"Standard Deviation :\", variance_value ** 0.5)\n",
    "\n"
   ]
  },
  {
   "cell_type": "code",
   "execution_count": 2,
   "id": "b80b91b5",
   "metadata": {},
   "outputs": [
    {
     "name": "stdout",
     "output_type": "stream",
     "text": [
      "Data : [10, 12, 15, 18, 20, 22, 25, 8]\n",
      "variance : 31.6875\n",
      "Standard Deviation : 5.629165124598851\n"
     ]
    }
   ],
   "source": [
    "#---find- variance and std with numpy------------------------------------------------\n",
    "import numpy as np\n",
    "data = [10, 12, 15, 18, 20, 22, 25, 8]\n",
    "variance_value = np.var(data)\n",
    "std_deviation = np.std(data)\n",
    "print(\"Data :\", data)\n",
    "print(\"variance :\", variance_value)\n",
    "print(\"Standard Deviation :\", std_deviation)\n"
   ]
  },
  {
   "cell_type": "code",
   "execution_count": 3,
   "id": "d0fb56f3",
   "metadata": {},
   "outputs": [
    {
     "name": "stdout",
     "output_type": "stream",
     "text": [
      "Data : [10, 12, 15, 18, 20, 22, 25, 8]\n",
      "variance : 36.214285714285715\n",
      "Standard Deviation : 6.017830648521585\n"
     ]
    }
   ],
   "source": [
    "#---find--variance -with stats------------------------------------------------\n",
    "import statistics as stats\n",
    "data = [10, 12, 15, 18, 20, 22, 25, 8]\n",
    "variance_value = stats.variance(data)\n",
    "std_deviation = stats.stdev(data)\n",
    "\n",
    "print(\"Data :\", data)\n",
    "print(\"variance :\" , variance_value)\n",
    "print(\"Standard Deviation :\", std_deviation)\n"
   ]
  },
  {
   "cell_type": "code",
   "execution_count": 4,
   "id": "a1368105",
   "metadata": {},
   "outputs": [
    {
     "name": "stdout",
     "output_type": "stream",
     "text": [
      "Data : [10, 12, 15, 18, 20, 22, 25, 8]\n",
      "Q1 (25th percentile) : 11.5\n",
      "Q3 (75th percentile) : 20.5\n",
      "Interquartile Range (IQR) : 9.0\n"
     ]
    }
   ],
   "source": [
    "#----FIND--IQR-DISPERSION--STATS------------------------------------------------\n",
    "# IQR = Q3 - Q1\n",
    "import numpy as np\n",
    "data = [10, 12, 15, 18, 20, 22, 25, 8]\n",
    "Q1 = np.percentile(data, 25)\n",
    "Q3 = np.percentile(data, 75)\n",
    "IQR = Q3 - Q1\n",
    "print(\"Data :\", data)\n",
    "print(\"Q1 (25th percentile) :\", Q1)\n",
    "print(\"Q3 (75th percentile) :\", Q3)\n",
    "print(\"Interquartile Range (IQR) :\", IQR)\n"
   ]
  },
  {
   "cell_type": "code",
   "execution_count": 1,
   "id": "a0a1bdb5",
   "metadata": {},
   "outputs": [
    {
     "name": "stdout",
     "output_type": "stream",
     "text": [
      "Data : [10, 12, 15, 18, 20, 22, 25, 8]\n",
      "Mean : 16.25\n",
      "Stardard deviation : 5.629165124598851\n",
      "Coefficient of Variation (CV) : 34.64101615137754\n"
     ]
    }
   ],
   "source": [
    "#---# Coefficient of Variation-----\n",
    "# CV = (Standard Deviation / Mean) * 100\n",
    "import numpy as np\n",
    "data = [10, 12, 15, 18, 20, 22, 25, 8]\n",
    "mean_value = np.mean(data)\n",
    "std_deviation = np.std(data)\n",
    "cv = (std_deviation / mean_value) * 100\n",
    "print(\"Data :\", data)\n",
    "print(\"Mean :\", mean_value)\n",
    "print(\"Stardard deviation :\", std_deviation)\n",
    "print(\"Coefficient of Variation (CV) :\", cv)\n"
   ]
  }
 ],
 "metadata": {
  "kernelspec": {
   "display_name": "Python 3",
   "language": "python",
   "name": "python3"
  },
  "language_info": {
   "codemirror_mode": {
    "name": "ipython",
    "version": 3
   },
   "file_extension": ".py",
   "mimetype": "text/x-python",
   "name": "python",
   "nbconvert_exporter": "python",
   "pygments_lexer": "ipython3",
   "version": "3.11.4"
  }
 },
 "nbformat": 4,
 "nbformat_minor": 5
}
